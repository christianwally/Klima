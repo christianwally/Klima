import xarray as xr
import cdsapi
c = cdsapi.Client()

for years in list(range(1980, 2018 + 1)):
    name = "era5_mslp_%04d.nc" % (years)
    c.retrieve('reanalysis-era5-single-levels', {
        'variable'      : 'mean_sea_level_pressure',
        'product_type'  : 'reanalysis',
        'year'          : years,
        'month'         : [
            '01','02','03',
            '04','05','06',
            '07','08','09',
            '10','11','12'],
        'day'           : [
            '01','02','03',
            '04','05','06',
            '07','08','09',
            '10','11','12',
            '13','14','15',
            '16','17','18',
            '19','20','21',
            '22','23','24',
            '25','26','27',
            '28','29','30',
            '31'],
        'area'          : [67.5, -10, 32.5, 25], # North, West, South, East. Default: global
#        'grid'          : [1.0, 1.0], # Latitude/longitude grid: east-west (longitude) and north-south resolution (latitude). Default: 0.25 x 0.25
        'time'          : ['00:00','01:00','02:00',
            '03:00','04:00','05:00',
            '06:00','07:00','08:00',
            '09:00','10:00','11:00',
            '12:00','13:00','14:00',
            '15:00','16:00','17:00',
            '18:00','19:00','20:00',
            '21:00','22:00','23:00'],
        'format'        : 'netcdf' # Supported format: grib and netcdf. Default: grib
        }, name)
    ds = xr.open_dataset(name) # open Data
    ds_neu=ds.resample(time='24H').mean() # and calculate daily means
    ds_neu.to_netcdf(name,mode='w', format='NETCDF4') # save only the daily means 
