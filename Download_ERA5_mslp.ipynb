{
 "cells": [
  {
   "cell_type": "code",
   "execution_count": null,
   "metadata": {},
   "outputs": [],
   "source": [
    "import xarray as xr\n",
    "import cdsapi\n",
    "c = cdsapi.Client()\n",
    "\n",
    "for years in list(range(1980, 2018 + 1)):\n",
    "    name = \"era5_mslp_%04d.nc\" % (years)\n",
    "    c.retrieve('reanalysis-era5-single-levels', {\n",
    "        'variable'      : 'mean_sea_level_pressure',\n",
    "        'product_type'  : 'reanalysis',\n",
    "        'year'          : years,\n",
    "        'month'         : [\n",
    "            '01','02','03',\n",
    "            '04','05','06',\n",
    "            '07','08','09',\n",
    "            '10','11','12'],\n",
    "        'day'           : [\n",
    "            '01','02','03',\n",
    "            '04','05','06',\n",
    "            '07','08','09',\n",
    "            '10','11','12',\n",
    "            '13','14','15',\n",
    "            '16','17','18',\n",
    "            '19','20','21',\n",
    "            '22','23','24',\n",
    "            '25','26','27',\n",
    "            '28','29','30',\n",
    "            '31'],\n",
    "        'area'          : [67.5, -10, 32.5, 25], # North, West, South, East. Default: global\n",
    "#        'grid'          : [1.0, 1.0], # Latitude/longitude grid: east-west (longitude) and north-south resolution (latitude). Default: 0.25 x 0.25\n",
    "        'time'          : ['00:00','01:00','02:00',\n",
    "            '03:00','04:00','05:00',\n",
    "            '06:00','07:00','08:00',\n",
    "            '09:00','10:00','11:00',\n",
    "            '12:00','13:00','14:00',\n",
    "            '15:00','16:00','17:00',\n",
    "            '18:00','19:00','20:00',\n",
    "            '21:00','22:00','23:00'],\n",
    "        'format'        : 'netcdf' # Supported format: grib and netcdf. Default: grib\n",
    "        }, name)\n",
    "    ds = xr.open_dataset(name) # open Data\n",
    "    ds_neu=ds.resample(time='24H').mean() # and calculate daily means\n",
    "    ds_neu.to_netcdf(name,mode='w', format='NETCDF4') # save only the daily means "
   ]
  }
 ],
 "metadata": {
  "kernelspec": {
   "display_name": "Python 3",
   "language": "python",
   "name": "python3"
  },
  "language_info": {
   "codemirror_mode": {
    "name": "ipython",
    "version": 3
   },
   "file_extension": ".py",
   "mimetype": "text/x-python",
   "name": "python",
   "nbconvert_exporter": "python",
   "pygments_lexer": "ipython3",
   "version": "3.7.1"
  }
 },
 "nbformat": 4,
 "nbformat_minor": 2
}
