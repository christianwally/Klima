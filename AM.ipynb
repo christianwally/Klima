{
 "cells": [
  {
   "cell_type": "code",
   "execution_count": 4,
   "metadata": {},
   "outputs": [],
   "source": [
    "import xarray as xr\n",
    "import pandas as pd\n",
    "import numpy as np\n",
    "import matplotlib.pyplot as plt\n",
    "#from eofs.xarray import Eof\n",
    "from eofs.multivariate.iris import MultivariateEof\n",
    "import iris\n",
    "import iris.plot as iplt\n",
    "import iris.quickplot as qplt\n",
    "\n",
    "anomalies_norm = xr.open_dataset(\"/home/srvx11/lehre/users/a1204101/AnalogMethod/data/ERA5/anom_all_1979-2018.nc\",chunks={'time': 5000, 'lat':141, 'lon': 141})"
   ]
  },
  {
   "cell_type": "code",
   "execution_count": null,
   "metadata": {},
   "outputs": [
    {
     "name": "stdout",
     "output_type": "stream",
     "text": [
      "12\n",
      "solver neu\n",
      "pcs\n",
      "13\n",
      "solver neu\n",
      "pcs\n",
      "14\n",
      "solver neu\n",
      "pcs\n",
      "15\n",
      "solver neu\n",
      "pcs\n",
      "16\n",
      "solver neu\n",
      "pcs\n",
      "17\n",
      "solver neu\n",
      "pcs\n",
      "18\n",
      "solver neu\n",
      "pcs\n",
      "19\n",
      "solver neu\n",
      "pcs\n",
      "20\n",
      "solver neu\n"
     ]
    }
   ],
   "source": [
    "found_day = np.array([])\n",
    "for day in range(11,20,1): # jetzt mal Tag 12-20\n",
    "    i = anomalies_norm.isel(time=day).dayofyear.values # i = dayofyear\n",
    "    ### todo: isin statt log. operatoren\n",
    "    anomalies_i_q = anomalies_norm.q.where((anomalies_norm.q.dayofyear >= i-10)&(anomalies_norm.q.dayofyear <= i+10)&(anomalies_norm.q.dayofyear != i), drop=True).to_iris()\n",
    "    anomalies_i_r = anomalies_norm.r.where((anomalies_norm.r.dayofyear >= i-10)&(anomalies_norm.r.dayofyear <= i+10)&(anomalies_norm.r.dayofyear != i), drop=True).to_iris()\n",
    "    anomalies_i_msl = anomalies_norm.msl.where((anomalies_norm.msl.dayofyear >= i-10)&(anomalies_norm.msl.dayofyear <= i+10)&(anomalies_norm.msl.dayofyear != i), drop=True).to_iris()\n",
    "    print(i)\n",
    "\n",
    "    #from eofs.multivariate.iris import MultivariateEof\n",
    "    print('solver neu')\n",
    "    solver = MultivariateEof([anomalies_i_q,anomalies_i_r,anomalies_i_msl])\n",
    "    #print('eofs')\n",
    "    #eofs = solver.eofsAsCovariance(neofs=5)\n",
    "    print('pcs')\n",
    "    pcs = solver.pcs(npcs=5)\n",
    "    #variance_fractions = solver.varianceFraction()\n",
    "    \n",
    "    testdata_q = anomalies_norm.q[day].to_iris()\n",
    "    testdata_r = anomalies_norm.r[day].to_iris()\n",
    "    testdata_msl = anomalies_norm.msl[day].to_iris()\n",
    "\n",
    "    pseudo_pcs = solver.projectField([testdata_q, testdata_r, testdata_msl], neofs=5)\n",
    "\n",
    "    a=np.argmin(np.sum(np.sqrt((pcs.data - pseudo_pcs.data)**2),axis=1)) # Index im pcs\n",
    "    b=anomalies_i_q.coord('time').points[a] # Index im gesamter Anomalies\n",
    "    \n",
    "    found_day = np.append(found_day,b)\n",
    "    \n",
    "    del solver\n"
   ]
  },
  {
   "cell_type": "code",
   "execution_count": null,
   "metadata": {},
   "outputs": [],
   "source": [
    "print(anomalies_norm.q.isel(time=np.int64(found_day)).time.data)"
   ]
  },
  {
   "cell_type": "code",
   "execution_count": null,
   "metadata": {},
   "outputs": [],
   "source": []
  }
 ],
 "metadata": {
  "kernelspec": {
   "display_name": "Python 3",
   "language": "python",
   "name": "python3"
  },
  "language_info": {
   "codemirror_mode": {
    "name": "ipython",
    "version": 3
   },
   "file_extension": ".py",
   "mimetype": "text/x-python",
   "name": "python",
   "nbconvert_exporter": "python",
   "pygments_lexer": "ipython3",
   "version": "3.7.1"
  }
 },
 "nbformat": 4,
 "nbformat_minor": 2
}
